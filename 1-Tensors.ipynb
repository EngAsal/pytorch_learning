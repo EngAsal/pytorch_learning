{
 "cells": [
  {
   "cell_type": "code",
   "execution_count": 1,
   "id": "a6e2251c",
   "metadata": {},
   "outputs": [],
   "source": [
    "import torch\n",
    "import numpy as np"
   ]
  },
  {
   "cell_type": "code",
   "execution_count": 4,
   "id": "639ab3d1",
   "metadata": {},
   "outputs": [
    {
     "data": {
      "text/plain": [
       "list"
      ]
     },
     "execution_count": 4,
     "metadata": {},
     "output_type": "execute_result"
    }
   ],
   "source": [
    "x = [[1, 2],[3, 4]]\n",
    "type(x)"
   ]
  },
  {
   "cell_type": "code",
   "execution_count": 5,
   "id": "b769085d",
   "metadata": {},
   "outputs": [
    {
     "name": "stdout",
     "output_type": "stream",
     "text": [
      "This is a tensor tensor([[1, 2],\n",
      "        [3, 4]])\n"
     ]
    },
    {
     "data": {
      "text/plain": [
       "'torch.LongTensor'"
      ]
     },
     "execution_count": 5,
     "metadata": {},
     "output_type": "execute_result"
    }
   ],
   "source": [
    "x_tensor = torch.tensor(data)\n",
    "print(\"This is a tensor\", x_tensor)\n",
    "x_tensor.type()"
   ]
  },
  {
   "cell_type": "code",
   "execution_count": 8,
   "id": "0cc797af",
   "metadata": {},
   "outputs": [
    {
     "name": "stdout",
     "output_type": "stream",
     "text": [
      "This is a numpy array [[1 2]\n",
      " [3 4]]\n",
      "This is a tensor from numpy data tensor([[1, 2],\n",
      "        [3, 4]])\n"
     ]
    }
   ],
   "source": [
    "# Create a tensor from numpy array\n",
    "x_np = np.array(x)\n",
    "print(\"This is a numpy array\", x_np)\n",
    "x_tensor_from_np = torch.from_numpy(x_np)\n",
    "print(\"This is a tensor from numpy data\", x_tensor_from_np)"
   ]
  },
  {
   "cell_type": "code",
   "execution_count": 17,
   "id": "1c5f0159",
   "metadata": {},
   "outputs": [
    {
     "name": "stdout",
     "output_type": "stream",
     "text": [
      "This is one tensor with the same properties as x\n",
      " tensor([[1, 1],\n",
      "        [1, 1]])\n",
      "This is a random tensor with overriden data types\n",
      " tensor([[-0.5206, -1.1377],\n",
      "        [ 0.1618, -1.7204]])\n"
     ]
    }
   ],
   "source": [
    "# Like in torch.randn_like means we want a tensor similar (with the same properties) to a specific tensor (here x_tensor)\n",
    "x_tensor_one = torch.ones_like(x_tensor)\n",
    "print(\"This is one tensor with the same properties as x\\n\",x_tensor_one)\n",
    "x_tensor_randn = torch.randn_like(x_tensor, dtype = torch.float)\n",
    "print(\"This is a random tensor with overriden data types\\n\", x_tensor_randn)"
   ]
  },
  {
   "cell_type": "code",
   "execution_count": 23,
   "id": "ae75edb8",
   "metadata": {},
   "outputs": [
    {
     "name": "stdout",
     "output_type": "stream",
     "text": [
      "This is random tensor with provided shape\n",
      " tensor([[0.3278, 0.2557, 0.3542],\n",
      "        [0.7441, 0.4219, 0.8716]]) \n",
      "This is one tensor with provided shape\n",
      " tensor([[1., 1., 1.],\n",
      "        [1., 1., 1.]])\n"
     ]
    }
   ],
   "source": [
    "# Shape is a tuple of tensor dimension\n",
    "shape = (2,3,)\n",
    "randn_tensor = torch.rand(shape)\n",
    "one_tensor = torch.ones(shape)\n",
    "print(\"This is random tensor with provided shape\\n\", \n",
    "      randn_tensor, \"\\nThis is one tensor with provided shape\\n\", one_tensor)"
   ]
  },
  {
   "cell_type": "code",
   "execution_count": 36,
   "id": "c22a7b46",
   "metadata": {},
   "outputs": [
    {
     "name": "stdout",
     "output_type": "stream",
     "text": [
      "shape of tensor torch.Size([2, 3])\n",
      "data type of tensot is torch.float32\n",
      "device tensor is stored on cpu\n"
     ]
    }
   ],
   "source": [
    "# Attributes of a tensor \n",
    "shape = (2,3,)\n",
    "tensor_a = torch.zeros(shape)\n",
    "print(f\"shape of tensor {tensor_a.shape}\\ndata type of tensot is {tensor_a.dtype}\\ndevice tensor is stored on {tensor_a.device}\")"
   ]
  },
  {
   "cell_type": "code",
   "execution_count": 37,
   "id": "031f9cb9",
   "metadata": {},
   "outputs": [],
   "source": [
    "# We move our tensor to the GPU if available\n",
    "if torch.cuda.is_available():\n",
    "    tensor = tensor.to(\"cuda\")"
   ]
  },
  {
   "cell_type": "code",
   "execution_count": 41,
   "id": "d353490b",
   "metadata": {},
   "outputs": [
    {
     "name": "stdout",
     "output_type": "stream",
     "text": [
      "tensor([[0.0724, 0.8722, 0.8238, 0.7579, 0.9402],\n",
      "        [0.1533, 0.0929, 0.8305, 0.8898, 0.5231],\n",
      "        [0.0154, 0.6516, 0.2234, 0.0148, 0.7223]])\n",
      "This is first row tensor([0.0724, 0.8722, 0.8238, 0.7579, 0.9402])\n",
      "This is first column tensor([0.0724, 0.1533, 0.0154])\n",
      "This is last row tensor([0.0154, 0.6516, 0.2234, 0.0148, 0.7223])\n",
      "This is last column tensor([0.9402, 0.5231, 0.7223])\n",
      "tensor([[0.0000, 0.0000, 0.0000, 0.0000, 0.0000],\n",
      "        [0.1533, 0.0929, 0.8305, 0.8898, 0.5231],\n",
      "        [0.0154, 0.6516, 0.2234, 0.0148, 0.7223]])\n"
     ]
    }
   ],
   "source": [
    "# Tensors have the same options as numpy arrays\n",
    "tensor_b = torch.rand(3,5,)\n",
    "print(tensor_b)\n",
    "print(f\"This is first row {tensor_b[0,:]}\")\n",
    "print(f\"This is first column {tensor_b[:,0]}\")\n",
    "print(f\"This is last row {tensor_b[-1,:]}\")\n",
    "print(f\"This is last column {tensor_b[:,-1]}\")\n",
    "\n",
    "# Change the first row to be all zero\n",
    "tensor_b[0,:] = 0\n",
    "print(tensor_b)"
   ]
  },
  {
   "cell_type": "code",
   "execution_count": 58,
   "id": "7591a07b",
   "metadata": {},
   "outputs": [
    {
     "name": "stdout",
     "output_type": "stream",
     "text": [
      "torch.Size([2, 3])\n",
      "torch.Size([3, 5])\n",
      "this is first tensor\n",
      " tensor([[0., 0., 0.],\n",
      "        [0., 0., 0.]])\n",
      "this is second tensor\n",
      " tensor([[1., 1., 1., 1., 1.],\n",
      "        [1., 1., 1., 1., 1.]])\n",
      "this is the joined tensor\n",
      " tensor([[0., 0., 0., 1., 1., 1., 1., 1.],\n",
      "        [0., 0., 0., 1., 1., 1., 1., 1.]])\n"
     ]
    }
   ],
   "source": [
    "# Joining a couple of tensors\n",
    "print(tensor_a.shape)\n",
    "print(tensor_b.shape)\n",
    "tensor_c = torch.ones(2,5)\n",
    "tensor_ac = torch.cat([tensor_a,tensor_c], dim = 1)\n",
    "print(\"this is first tensor\\n\", tensor_a)\n",
    "print(\"this is second tensor\\n\", tensor_c)\n",
    "print(\"this is the joined tensor\\n\", tensor_ac)"
   ]
  },
  {
   "cell_type": "code",
   "execution_count": 62,
   "id": "b0740ed5",
   "metadata": {},
   "outputs": [
    {
     "data": {
      "text/plain": [
       "tensor([[1., 0., 1., 1.],\n",
       "        [1., 0., 1., 1.],\n",
       "        [1., 0., 1., 1.],\n",
       "        [1., 0., 1., 1.]])"
      ]
     },
     "execution_count": 62,
     "metadata": {},
     "output_type": "execute_result"
    }
   ],
   "source": [
    "tensor = torch.ones(4, 4)\n",
    "tensor[:,1] = 0\n",
    "\n",
    "y1 = tensor @ tensor.T\n",
    "y2 = tensor.matmul(tensor.T)\n",
    "\n",
    "y3 = torch.rand_like(y1)\n",
    "torch.matmul(tensor, tensor.T, out=y3)\n",
    "\n",
    "# This computes the element-wise product. z1, z2, z3 will have the same value\n",
    "z1 = tensor * tensor\n",
    "z2 = tensor.mul(tensor)\n",
    "\n",
    "z3 = torch.rand_like(tensor)\n",
    "torch.mul(tensor, tensor, out=z3)"
   ]
  }
 ],
 "metadata": {
  "kernelspec": {
   "display_name": "Python 3 (ipykernel)",
   "language": "python",
   "name": "python3"
  },
  "language_info": {
   "codemirror_mode": {
    "name": "ipython",
    "version": 3
   },
   "file_extension": ".py",
   "mimetype": "text/x-python",
   "name": "python",
   "nbconvert_exporter": "python",
   "pygments_lexer": "ipython3",
   "version": "3.11.5"
  }
 },
 "nbformat": 4,
 "nbformat_minor": 5
}
