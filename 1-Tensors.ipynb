{
 "cells": [
  {
   "cell_type": "code",
   "execution_count": 1,
   "id": "6ad8e10b",
   "metadata": {},
   "outputs": [],
   "source": [
    "import torch\n",
    "import numpy as np"
   ]
  },
  {
   "cell_type": "code",
   "execution_count": 4,
   "id": "66888883",
   "metadata": {},
   "outputs": [
    {
     "data": {
      "text/plain": [
       "list"
      ]
     },
     "execution_count": 4,
     "metadata": {},
     "output_type": "execute_result"
    }
   ],
   "source": [
    "x = [[1, 2],[3, 4]]\n",
    "type(x)"
   ]
  },
  {
   "cell_type": "code",
   "execution_count": 5,
   "id": "44b73753",
   "metadata": {},
   "outputs": [
    {
     "name": "stdout",
     "output_type": "stream",
     "text": [
      "This is a tensor tensor([[1, 2],\n",
      "        [3, 4]])\n"
     ]
    },
    {
     "data": {
      "text/plain": [
       "'torch.LongTensor'"
      ]
     },
     "execution_count": 5,
     "metadata": {},
     "output_type": "execute_result"
    }
   ],
   "source": [
    "x_tensor = torch.tensor(data)\n",
    "print(\"This is a tensor\", x_tensor)\n",
    "x_tensor.type()"
   ]
  },
  {
   "cell_type": "code",
   "execution_count": 8,
   "id": "0d49e3cd",
   "metadata": {},
   "outputs": [
    {
     "name": "stdout",
     "output_type": "stream",
     "text": [
      "This is a numpy array [[1 2]\n",
      " [3 4]]\n",
      "This is a tensor from numpy data tensor([[1, 2],\n",
      "        [3, 4]])\n"
     ]
    }
   ],
   "source": [
    "# Create a tensor from numpy array\n",
    "x_np = np.array(x)\n",
    "print(\"This is a numpy array\", x_np)\n",
    "x_tensor_from_np = torch.from_numpy(x_np)\n",
    "print(\"This is a tensor from numpy data\", x_tensor_from_np)"
   ]
  },
  {
   "cell_type": "code",
   "execution_count": 17,
   "id": "44c9e920",
   "metadata": {},
   "outputs": [
    {
     "name": "stdout",
     "output_type": "stream",
     "text": [
      "This is one tensor with the same properties as x\n",
      " tensor([[1, 1],\n",
      "        [1, 1]])\n",
      "This is a random tensor with overriden data types\n",
      " tensor([[-0.5206, -1.1377],\n",
      "        [ 0.1618, -1.7204]])\n"
     ]
    }
   ],
   "source": [
    "# Like in torch.randn_like means we want a tensor similar (with the same properties) to a specific tensor (here x_tensor)\n",
    "x_tensor_one = torch.ones_like(x_tensor)\n",
    "print(\"This is one tensor with the same properties as x\\n\",x_tensor_one)\n",
    "x_tensor_randn = torch.randn_like(x_tensor, dtype = torch.float)\n",
    "print(\"This is a random tensor with overriden data types\\n\", x_tensor_randn)"
   ]
  },
  {
   "cell_type": "code",
   "execution_count": 23,
   "id": "9dbe236f",
   "metadata": {},
   "outputs": [
    {
     "name": "stdout",
     "output_type": "stream",
     "text": [
      "This is random tensor with provided shape\n",
      " tensor([[0.3278, 0.2557, 0.3542],\n",
      "        [0.7441, 0.4219, 0.8716]]) \n",
      "This is one tensor with provided shape\n",
      " tensor([[1., 1., 1.],\n",
      "        [1., 1., 1.]])\n"
     ]
    }
   ],
   "source": [
    "# Shape is a tuple of tensor dimension\n",
    "shape = (2,3,)\n",
    "randn_tensor = torch.rand(shape)\n",
    "one_tensor = torch.ones(shape)\n",
    "print(\"This is random tensor with provided shape\\n\", \n",
    "      randn_tensor, \"\\nThis is one tensor with provided shape\\n\", one_tensor)"
   ]
  },
  {
   "cell_type": "code",
   "execution_count": 36,
   "id": "bf1cc2ee",
   "metadata": {},
   "outputs": [
    {
     "name": "stdout",
     "output_type": "stream",
     "text": [
      "shape of tensor torch.Size([2, 3])\n",
      "data type of tensot is torch.float32\n",
      "device tensor is stored on cpu\n"
     ]
    }
   ],
   "source": [
    "# Attributes of a tensor \n",
    "shape = (2,3,)\n",
    "tensor_a = torch.zeros(shape)\n",
    "print(f\"shape of tensor {tensor_a.shape}\\ndata type of tensot is {tensor_a.dtype}\\ndevice tensor is stored on {tensor_a.device}\")"
   ]
  },
  {
   "cell_type": "code",
   "execution_count": null,
   "id": "383a8263",
   "metadata": {},
   "outputs": [],
   "source": []
  }
 ],
 "metadata": {
  "kernelspec": {
   "display_name": "Python 3 (ipykernel)",
   "language": "python",
   "name": "python3"
  },
  "language_info": {
   "codemirror_mode": {
    "name": "ipython",
    "version": 3
   },
   "file_extension": ".py",
   "mimetype": "text/x-python",
   "name": "python",
   "nbconvert_exporter": "python",
   "pygments_lexer": "ipython3",
   "version": "3.11.5"
  }
 },
 "nbformat": 4,
 "nbformat_minor": 5
}
